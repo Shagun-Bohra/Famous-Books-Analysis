{
 "cells": [
  {
   "cell_type": "code",
   "execution_count": 2,
   "id": "7d3afd23",
   "metadata": {},
   "outputs": [],
   "source": [
    "import numpy as np\n",
    "import pandas as pd\n",
    "import seaborn as sns\n",
    "import matplotlib.pyplot as plt"
   ]
  },
  {
   "cell_type": "code",
   "execution_count": 3,
   "id": "1d3607d7",
   "metadata": {},
   "outputs": [],
   "source": [
    "books_data = pd.read_csv(\"C:\\\\Users\\\\admin\\\\Desktop\\\\Startup\\\\Books.csv\")"
   ]
  },
  {
   "cell_type": "code",
   "execution_count": 4,
   "id": "4998bb06",
   "metadata": {},
   "outputs": [
    {
     "data": {
      "text/html": [
       "<div>\n",
       "<style scoped>\n",
       "    .dataframe tbody tr th:only-of-type {\n",
       "        vertical-align: middle;\n",
       "    }\n",
       "\n",
       "    .dataframe tbody tr th {\n",
       "        vertical-align: top;\n",
       "    }\n",
       "\n",
       "    .dataframe thead th {\n",
       "        text-align: right;\n",
       "    }\n",
       "</style>\n",
       "<table border=\"1\" class=\"dataframe\">\n",
       "  <thead>\n",
       "    <tr style=\"text-align: right;\">\n",
       "      <th></th>\n",
       "      <th>SN</th>\n",
       "      <th>Name</th>\n",
       "      <th>Authhor</th>\n",
       "      <th>Ratings</th>\n",
       "      <th>Genre</th>\n",
       "    </tr>\n",
       "  </thead>\n",
       "  <tbody>\n",
       "    <tr>\n",
       "      <th>0</th>\n",
       "      <td>1</td>\n",
       "      <td>The Hunger Games (The Hunger Games, #1)</td>\n",
       "      <td>Suzanne Collins</td>\n",
       "      <td>4.32 avg rating — 6,977,159 ratings</td>\n",
       "      <td>Fiction</td>\n",
       "    </tr>\n",
       "    <tr>\n",
       "      <th>1</th>\n",
       "      <td>2</td>\n",
       "      <td>Harry Potter and the Order of the Phoenix (Har...</td>\n",
       "      <td>J.K. Rowling</td>\n",
       "      <td>4.50 avg rating — 2,773,907 ratings</td>\n",
       "      <td>Fiction</td>\n",
       "    </tr>\n",
       "    <tr>\n",
       "      <th>2</th>\n",
       "      <td>3</td>\n",
       "      <td>To Kill a Mockingbird</td>\n",
       "      <td>Harper Lee</td>\n",
       "      <td>4.27 avg rating — 4,964,959 ratings</td>\n",
       "      <td>Fiction</td>\n",
       "    </tr>\n",
       "    <tr>\n",
       "      <th>3</th>\n",
       "      <td>4</td>\n",
       "      <td>Pride and Prejudice</td>\n",
       "      <td>Jane Austen</td>\n",
       "      <td>4.27 avg rating — 3,357,930 ratings</td>\n",
       "      <td>Fiction</td>\n",
       "    </tr>\n",
       "    <tr>\n",
       "      <th>4</th>\n",
       "      <td>5</td>\n",
       "      <td>Twilight (The Twilight Saga, #1)</td>\n",
       "      <td>Stephenie Meyer</td>\n",
       "      <td>3.62 avg rating — 5,426,775 ratings</td>\n",
       "      <td>Fiction</td>\n",
       "    </tr>\n",
       "  </tbody>\n",
       "</table>\n",
       "</div>"
      ],
      "text/plain": [
       "   SN                                               Name          Authhor  \\\n",
       "0   1            The Hunger Games (The Hunger Games, #1)  Suzanne Collins   \n",
       "1   2  Harry Potter and the Order of the Phoenix (Har...     J.K. Rowling   \n",
       "2   3                              To Kill a Mockingbird       Harper Lee   \n",
       "3   4                                Pride and Prejudice      Jane Austen   \n",
       "4   5                   Twilight (The Twilight Saga, #1)  Stephenie Meyer   \n",
       "\n",
       "                               Ratings    Genre  \n",
       "0  4.32 avg rating — 6,977,159 ratings  Fiction  \n",
       "1  4.50 avg rating — 2,773,907 ratings  Fiction  \n",
       "2  4.27 avg rating — 4,964,959 ratings  Fiction  \n",
       "3  4.27 avg rating — 3,357,930 ratings  Fiction  \n",
       "4  3.62 avg rating — 5,426,775 ratings  Fiction  "
      ]
     },
     "execution_count": 4,
     "metadata": {},
     "output_type": "execute_result"
    }
   ],
   "source": [
    "books_data.head()"
   ]
  },
  {
   "cell_type": "code",
   "execution_count": 5,
   "id": "2c608ebc",
   "metadata": {},
   "outputs": [
    {
     "name": "stdout",
     "output_type": "stream",
     "text": [
      "<class 'pandas.core.frame.DataFrame'>\n",
      "RangeIndex: 10778 entries, 0 to 10777\n",
      "Data columns (total 5 columns):\n",
      " #   Column   Non-Null Count  Dtype \n",
      "---  ------   --------------  ----- \n",
      " 0   SN       10778 non-null  int64 \n",
      " 1   Name     10778 non-null  object\n",
      " 2   Authhor  10778 non-null  object\n",
      " 3   Ratings  10778 non-null  object\n",
      " 4   Genre    10778 non-null  object\n",
      "dtypes: int64(1), object(4)\n",
      "memory usage: 421.1+ KB\n"
     ]
    }
   ],
   "source": [
    "books_data.info()"
   ]
  },
  {
   "cell_type": "code",
   "execution_count": 7,
   "id": "7231dc9b",
   "metadata": {},
   "outputs": [
    {
     "data": {
      "text/plain": [
       "array(['Fiction', 'biography', 'Autobiography', 'Fantasy'], dtype=object)"
      ]
     },
     "execution_count": 7,
     "metadata": {},
     "output_type": "execute_result"
    }
   ],
   "source": [
    "books_data.Genre.unique()"
   ]
  },
  {
   "cell_type": "code",
   "execution_count": 8,
   "id": "3dd486c6",
   "metadata": {},
   "outputs": [
    {
     "data": {
      "text/plain": [
       "array(['4.32 avg rating — 6,977,159 ratings',\n",
       "       '4.50 avg rating — 2,773,907 ratings',\n",
       "       '4.27 avg rating — 4,964,959 ratings', ...,\n",
       "       '4.12 avg rating — 167,658 ratings',\n",
       "       '4.08 avg rating — 85,086 ratings',\n",
       "       '4.02 avg rating — 101,603 ratings'], dtype=object)"
      ]
     },
     "execution_count": 8,
     "metadata": {},
     "output_type": "execute_result"
    }
   ],
   "source": [
    "books_data.Ratings.unique()"
   ]
  },
  {
   "cell_type": "code",
   "execution_count": 10,
   "id": "aa573cf2",
   "metadata": {},
   "outputs": [
    {
     "data": {
      "text/plain": [
       "Fiction          10000\n",
       "biography          339\n",
       "Autobiography      239\n",
       "Fantasy            200\n",
       "Name: Genre, dtype: int64"
      ]
     },
     "execution_count": 10,
     "metadata": {},
     "output_type": "execute_result"
    }
   ],
   "source": [
    "books_data[\"Genre\"].value_counts()"
   ]
  },
  {
   "cell_type": "code",
   "execution_count": 11,
   "id": "12e65e86",
   "metadata": {},
   "outputs": [
    {
     "data": {
      "image/png": "[encoded data removed]",
      "text/plain": [
       "<Figure size 432x288 with 1 Axes>"
      ]
     },
     "metadata": {},
     "output_type": "display_data"
    }
   ],
   "source": [
    "labels= ['Fiction', 'biography', 'Autobiography', 'Fantasy']\n",
    "\n",
    "colors=['blue', 'yellow', 'green', 'red' ]\n",
    "\n",
    "sizes= [10000, 339, 239, 200]\n",
    "\n",
    "plt.pie(sizes,labels=labels, colors=colors, startangle=190, autopct='%1.1f%%')\n",
    "plt.title('Genre wise books count')\n",
    "\n",
    "plt.axis('equal')\n",
    "\n",
    "plt.show()"
   ]
  },
  {
   "cell_type": "code",
   "execution_count": 14,
   "id": "09450965",
   "metadata": {},
   "outputs": [],
   "source": [
    "data_mapped = books_data.copy()\n",
    "data_mapped[\"Genre\"] = data_mapped[\"Genre\"].map({\"Fiction\":0, \"biography\":1,\n",
    "                                                      \"Autobiography\":2,\n",
    "                                                      \"Fantasy\":3,\n",
    "                                                      })"
   ]
  },
  {
   "cell_type": "code",
   "execution_count": 15,
   "id": "cf26fa51",
   "metadata": {},
   "outputs": [
    {
     "data": {
      "text/html": [
       "<div>\n",
       "<style scoped>\n",
       "    .dataframe tbody tr th:only-of-type {\n",
       "        vertical-align: middle;\n",
       "    }\n",
       "\n",
       "    .dataframe tbody tr th {\n",
       "        vertical-align: top;\n",
       "    }\n",
       "\n",
       "    .dataframe thead th {\n",
       "        text-align: right;\n",
       "    }\n",
       "</style>\n",
       "<table border=\"1\" class=\"dataframe\">\n",
       "  <thead>\n",
       "    <tr style=\"text-align: right;\">\n",
       "      <th></th>\n",
       "      <th>SN</th>\n",
       "      <th>Name</th>\n",
       "      <th>Authhor</th>\n",
       "      <th>Ratings</th>\n",
       "      <th>Genre</th>\n",
       "    </tr>\n",
       "  </thead>\n",
       "  <tbody>\n",
       "    <tr>\n",
       "      <th>0</th>\n",
       "      <td>1</td>\n",
       "      <td>The Hunger Games (The Hunger Games, #1)</td>\n",
       "      <td>Suzanne Collins</td>\n",
       "      <td>4.32 avg rating — 6,977,159 ratings</td>\n",
       "      <td>0</td>\n",
       "    </tr>\n",
       "    <tr>\n",
       "      <th>1</th>\n",
       "      <td>2</td>\n",
       "      <td>Harry Potter and the Order of the Phoenix (Har...</td>\n",
       "      <td>J.K. Rowling</td>\n",
       "      <td>4.50 avg rating — 2,773,907 ratings</td>\n",
       "      <td>0</td>\n",
       "    </tr>\n",
       "    <tr>\n",
       "      <th>2</th>\n",
       "      <td>3</td>\n",
       "      <td>To Kill a Mockingbird</td>\n",
       "      <td>Harper Lee</td>\n",
       "      <td>4.27 avg rating — 4,964,959 ratings</td>\n",
       "      <td>0</td>\n",
       "    </tr>\n",
       "    <tr>\n",
       "      <th>3</th>\n",
       "      <td>4</td>\n",
       "      <td>Pride and Prejudice</td>\n",
       "      <td>Jane Austen</td>\n",
       "      <td>4.27 avg rating — 3,357,930 ratings</td>\n",
       "      <td>0</td>\n",
       "    </tr>\n",
       "    <tr>\n",
       "      <th>4</th>\n",
       "      <td>5</td>\n",
       "      <td>Twilight (The Twilight Saga, #1)</td>\n",
       "      <td>Stephenie Meyer</td>\n",
       "      <td>3.62 avg rating — 5,426,775 ratings</td>\n",
       "      <td>0</td>\n",
       "    </tr>\n",
       "  </tbody>\n",
       "</table>\n",
       "</div>"
      ],
      "text/plain": [
       "   SN                                               Name          Authhor  \\\n",
       "0   1            The Hunger Games (The Hunger Games, #1)  Suzanne Collins   \n",
       "1   2  Harry Potter and the Order of the Phoenix (Har...     J.K. Rowling   \n",
       "2   3                              To Kill a Mockingbird       Harper Lee   \n",
       "3   4                                Pride and Prejudice      Jane Austen   \n",
       "4   5                   Twilight (The Twilight Saga, #1)  Stephenie Meyer   \n",
       "\n",
       "                               Ratings  Genre  \n",
       "0  4.32 avg rating — 6,977,159 ratings      0  \n",
       "1  4.50 avg rating — 2,773,907 ratings      0  \n",
       "2  4.27 avg rating — 4,964,959 ratings      0  \n",
       "3  4.27 avg rating — 3,357,930 ratings      0  \n",
       "4  3.62 avg rating — 5,426,775 ratings      0  "
      ]
     },
     "execution_count": 15,
     "metadata": {},
     "output_type": "execute_result"
    }
   ],
   "source": [
    "data_mapped.head()"
   ]
  },
  {
   "cell_type": "code",
   "execution_count": 25,
   "id": "a1dc07e4",
   "metadata": {},
   "outputs": [
    {
     "data": {
      "text/plain": [
       "<AxesSubplot:xlabel='Genre', ylabel='SN'>"
      ]
     },
     "execution_count": 25,
     "metadata": {},
     "output_type": "execute_result"
    },
    {
     "data": {
      "image/png": "[encoded data removed]",
      "text/plain": [
       "<Figure size 432x288 with 1 Axes>"
      ]
     },
     "metadata": {},
     "output_type": "display_data"
    }
   ],
   "source": [
    "sns.scatterplot(x = data_mapped[\"Genre\"], y = data_mapped[\"SN\"], alpha = 1)"
   ]
  },
  {
   "cell_type": "code",
   "execution_count": 26,
   "id": "4da053b0",
   "metadata": {},
   "outputs": [
    {
     "data": {
      "image/png": "[encoded data removed]",
      "text/plain": [
       "<Figure size 360x360 with 2 Axes>"
      ]
     },
     "metadata": {},
     "output_type": "display_data"
    }
   ],
   "source": [
    "corrmat=data_mapped.corr()\n",
    "top_corr_features=corrmat.index\n",
    "plt.figure(figsize=(5,5))\n",
    "#plot heat map\n",
    "g=sns.heatmap(data_mapped[top_corr_features].corr(),annot=True,cmap=\"RdYlGn\")\n"
   ]
  },
  {
   "cell_type": "code",
   "execution_count": 27,
   "id": "150e678f",
   "metadata": {
    "scrolled": true
   },
   "outputs": [
    {
     "data": {
      "text/plain": [
       "(Goodreads Author)        5018\n",
       "Terry Pratchett             47\n",
       "Erin Hunter                 33\n",
       "William Shakespeare         31\n",
       "Anonymous                   25\n",
       "                          ... \n",
       "Kate le Vann                 1\n",
       "Robert Dallek                1\n",
       "Maja Lidia Kossakowska       1\n",
       "Jennings Michael Burch       1\n",
       "Ranko Marinković             1\n",
       "Name: Authhor, Length: 2766, dtype: int64"
      ]
     },
     "execution_count": 27,
     "metadata": {},
     "output_type": "execute_result"
    }
   ],
   "source": [
    "books_data[\"Authhor\"].value_counts()"
   ]
  },
  {
   "cell_type": "code",
   "execution_count": 31,
   "id": "ad22113b",
   "metadata": {},
   "outputs": [
    {
     "data": {
      "image/png": "[encoded data removed]",
      "text/plain": [
       "<Figure size 432x288 with 1 Axes>"
      ]
     },
     "metadata": {},
     "output_type": "display_data"
    }
   ],
   "source": [
    "labels= ['Goodreads Author', 'Terry Pratchett', 'Erin Hunter']\n",
    "\n",
    "colors=['blue', 'yellow', 'green']\n",
    "\n",
    "sizes= [5018, 47, 33]\n",
    "\n",
    "plt.pie(sizes,labels=labels, colors=colors, startangle=190, autopct='%1.1f%%')\n",
    "plt.title('Authoor wise books count')\n",
    "\n",
    "plt.axis('equal')\n",
    "\n",
    "plt.show()"
   ]
  },
  {
   "cell_type": "code",
   "execution_count": 35,
   "id": "a8e0077e",
   "metadata": {},
   "outputs": [
    {
     "data": {
      "image/png": "[encoded data removed]",
      "text/plain": [
       "<Figure size 1440x720 with 1 Axes>"
      ]
     },
     "metadata": {},
     "output_type": "display_data"
    }
   ],
   "source": [
    "country = ['Goodreads Author', 'Terry Pratchett', 'Erin Hunter', 'William Shakespeare', 'Anonymous']\n",
    "average_fee = [5018, 47, 33, 31, 25]\n",
    "fig = plt.figure(figsize =(20,10))\n",
    "plt.bar(country, average_fee, color = 'b')\n",
    "plt.ylabel('Number of books', fontsize = 8)\n",
    "plt.show()"
   ]
  },
  {
   "cell_type": "code",
   "execution_count": null,
   "id": "a05b1d6e",
   "metadata": {},
   "outputs": [],
   "source": []
  }
 ],
 "metadata": {
  "kernelspec": {
   "display_name": "Python 3",
   "language": "python",
   "name": "python3"
  },
  "language_info": {
   "codemirror_mode": {
    "name": "ipython",
    "version": 3
   },
   "file_extension": ".py",
   "mimetype": "text/x-python",
   "name": "python",
   "nbconvert_exporter": "python",
   "pygments_lexer": "ipython3",
   "version": "3.8.8"
  }
 },
 "nbformat": 4,
 "nbformat_minor": 5
}
